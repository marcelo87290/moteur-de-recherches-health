{
 "cells": [
  {
   "cell_type": "markdown",
   "metadata": {},
   "source": [
    "Recherche sur Google Scholar - Health DATA IA"
   ]
  },
  {
   "cell_type": "code",
   "execution_count": 7,
   "metadata": {},
   "outputs": [],
   "source": [
    "from serpapi import GoogleSearch"
   ]
  },
  {
   "cell_type": "code",
   "execution_count": 55,
   "metadata": {},
   "outputs": [],
   "source": [
    "\n",
    "params = {\n",
    "  \"engine\": \"google_scholar\",\n",
    "  \"q\": \"parkinson disease foundation\",\n",
    "  \"api_key\": \"3a46f0b76582efd052d4a63bc1f1d7619abf9717412211d7bdd52d07c8de8467\"\n",
    "}\n",
    "\n",
    "search = GoogleSearch(params)\n",
    "results = search.get_dict()\n",
    "organic_results = results['organic_results']\n"
   ]
  },
  {
   "cell_type": "code",
   "execution_count": 56,
   "metadata": {},
   "outputs": [
    {
     "data": {
      "text/plain": [
       "{'position': 0,\n",
       " 'title': 'Hospitalization in Parkinson disease: a survey of national Parkinson foundation centers',\n",
       " 'result_id': 'iNMzoE3KZNEJ',\n",
       " 'link': 'https://www.sciencedirect.com/science/article/pii/S1353802011000617',\n",
       " 'snippet': 'Objectives To explore current practices and opinions regarding hospital management of Parkinson disease (PD) patients in specialized PD Centers. Methods Fifty-one out of 54 National Parkinson Foundation (NPF) Centers worldwide completed an online survey …',\n",
       " 'publication_info': {'summary': 'KL Chou, J Zamudio, P Schmidt, CC Price… - Parkinsonism & related …, 2011 - Elsevier',\n",
       "  'authors': [{'name': 'KL Chou',\n",
       "    'link': 'https://scholar.google.com/citations?user=9RiukmEAAAAJ&hl=en&oi=sra',\n",
       "    'serpapi_scholar_link': 'https://serpapi.com/search.json?author_id=9RiukmEAAAAJ&engine=google_scholar_author&hl=en',\n",
       "    'author_id': '9RiukmEAAAAJ'},\n",
       "   {'name': 'P Schmidt',\n",
       "    'link': 'https://scholar.google.com/citations?user=JXjz9oUAAAAJ&hl=en&oi=sra',\n",
       "    'serpapi_scholar_link': 'https://serpapi.com/search.json?author_id=JXjz9oUAAAAJ&engine=google_scholar_author&hl=en',\n",
       "    'author_id': 'JXjz9oUAAAAJ'},\n",
       "   {'name': 'CC Price',\n",
       "    'link': 'https://scholar.google.com/citations?user=lpUxjHAAAAAJ&hl=en&oi=sra',\n",
       "    'serpapi_scholar_link': 'https://serpapi.com/search.json?author_id=lpUxjHAAAAAJ&engine=google_scholar_author&hl=en',\n",
       "    'author_id': 'lpUxjHAAAAAJ'}]},\n",
       " 'resources': [{'title': 'nih.gov',\n",
       "   'file_format': 'HTML',\n",
       "   'link': 'https://www.ncbi.nlm.nih.gov/pmc/articles/pmc3895941/'}],\n",
       " 'inline_links': {'serpapi_cite_link': 'https://serpapi.com/search.json?engine=google_scholar_cite&q=iNMzoE3KZNEJ',\n",
       "  'html_version': 'https://www.ncbi.nlm.nih.gov/pmc/articles/pmc3895941/',\n",
       "  'cited_by': {'total': 74,\n",
       "   'link': 'https://scholar.google.com/scholar?cites=15088407086347047816&as_sdt=2005&sciodt=0,5&hl=en',\n",
       "   'cites_id': '15088407086347047816',\n",
       "   'serpapi_scholar_link': 'https://serpapi.com/search.json?as_sdt=2005&cites=15088407086347047816&engine=google_scholar&hl=en'},\n",
       "  'related_pages_link': 'https://scholar.google.com/scholar?q=related:iNMzoE3KZNEJ:scholar.google.com/&scioq=parkinson+disease+foundation&hl=en&as_sdt=0,5',\n",
       "  'versions': {'total': 14,\n",
       "   'link': 'https://scholar.google.com/scholar?cluster=15088407086347047816&hl=en&as_sdt=0,5',\n",
       "   'cluster_id': '15088407086347047816',\n",
       "   'serpapi_scholar_link': 'https://serpapi.com/search.json?as_sdt=0%2C5&cluster=15088407086347047816&engine=google_scholar&hl=en'}}}"
      ]
     },
     "execution_count": 56,
     "metadata": {},
     "output_type": "execute_result"
    }
   ],
   "source": [
    "results['organic_results'][0]"
   ]
  },
  {
   "cell_type": "code",
   "execution_count": 57,
   "metadata": {},
   "outputs": [
    {
     "data": {
      "text/plain": [
       "10"
      ]
     },
     "execution_count": 57,
     "metadata": {},
     "output_type": "execute_result"
    }
   ],
   "source": [
    "len(organic_results)"
   ]
  },
  {
   "cell_type": "code",
   "execution_count": 58,
   "metadata": {},
   "outputs": [
    {
     "name": "stdout",
     "output_type": "stream",
     "text": [
      "Titre :  Hospitalization in Parkinson disease: a survey of national Parkinson foundation centers\n",
      "Sinopsy :  Objectives To explore current practices and opinions regarding hospital management of Parkinson disease (PD) patients in specialized PD Centers. Methods Fifty-one out of 54 National Parkinson Foundation (NPF) Centers worldwide completed an online survey …\n",
      "Publication :  KL Chou, J Zamudio, P Schmidt, CC Price… - Parkinsonism & related …, 2011 - Elsevier\n",
      "Lien :  https://www.sciencedirect.com/science/article/pii/S1353802011000617\n"
     ]
    }
   ],
   "source": [
    "print(\"Titre : \",results['organic_results'][0]['title'])\n",
    "print(\"Sinopsy : \",results['organic_results'][0]['snippet'])\n",
    "print(\"Publication : \",results['organic_results'][0]['publication_info']['summary'])\n",
    "print(\"Lien : \",results['organic_results'][0]['link'])\n"
   ]
  },
  {
   "cell_type": "code",
   "execution_count": 59,
   "metadata": {},
   "outputs": [
    {
     "name": "stdout",
     "output_type": "stream",
     "text": [
      "Lien :  https://www.sciencedirect.com/science/article/pii/S1353802011000617\n",
      "Lien :  https://www.tandfonline.com/doi/abs/10.4161/auto.26451\n",
      "Lien :  https://journals.lww.com/homehealthcarenurseonline/fulltext/2016/06000/Parkinson_Disease.3.aspx\n",
      "Lien :  https://www.ncbi.nlm.nih.gov/pmc/articles/PMC6179875/\n",
      "Lien :  https://onlinelibrary.wiley.com/doi/abs/10.1002/ana.22629\n",
      "Lien :  https://journals.plos.org/plosone/article?id=10.1371/journal.pone.0180425\n",
      "Lien :  https://ng.neurology.org/content/5/4/e348.abstract\n",
      "Lien :  https://n.neurology.org/content/76/10/863.short\n",
      "Lien :  https://ng.neurology.org/content/2/5/e104.short\n",
      "Lien :  https://n.neurology.org/content/73/16/1286.short\n"
     ]
    }
   ],
   "source": [
    "for i in range(10):\n",
    "    print(\"Lien : \",results['organic_results'][i]['link'])  "
   ]
  },
  {
   "cell_type": "code",
   "execution_count": null,
   "metadata": {},
   "outputs": [],
   "source": [
    "\n",
    "\n"
   ]
  },
  {
   "cell_type": "code",
   "execution_count": null,
   "metadata": {},
   "outputs": [],
   "source": []
  }
 ],
 "metadata": {
  "kernelspec": {
   "display_name": "Python 3",
   "language": "python",
   "name": "python3"
  },
  "language_info": {
   "codemirror_mode": {
    "name": "ipython",
    "version": 3
   },
   "file_extension": ".py",
   "mimetype": "text/x-python",
   "name": "python",
   "nbconvert_exporter": "python",
   "pygments_lexer": "ipython3",
   "version": "3.7.6"
  }
 },
 "nbformat": 4,
 "nbformat_minor": 4
}
